{
 "cells": [
  {
   "cell_type": "markdown",
   "metadata": {},
   "source": [
    "Day 1 - Monday - 4 hours\n",
    ". Week 1 Retrospective\n",
    "    . Student Deliverables Presentative (30-60 mins)\n",
    "    . BIOS Security Basics (30 mins)\n",
    "        . TODO: Students should create a Hardware playbook in their security handbook\n",
    "        . Boot Password\n",
    "        . Security Settings Password\n",
    "        . Difference between BIOS and UEFI\n",
    "            . BIOS\n",
    "                . MBR shows location of boot sector\n",
    "                . Boot sector contains code that points to\n",
    "                . Boot manager manager knows how to launch th\n",
    "                \n",
    "            . UEFI\n",
    "                . Loads the boot manager directly\n",
    "                    bcedit /enum\n",
    "                    \n",
    "        . Windows: Unable to locate bootmgr is a standard\n",
    "        . Show bcdedit /enum to show Boot Manager\n",
    "        "
   ]
  },
  {
   "cell_type": "markdown",
   "metadata": {},
   "source": [
    "\n",
    "\n"
   ]
  }
 ],
 "metadata": {
  "kernelspec": {
   "display_name": "Python 3",
   "language": "python",
   "name": "python3"
  },
  "language_info": {
   "codemirror_mode": {
    "name": "ipython",
    "version": 3
   },
   "file_extension": ".py",
   "mimetype": "text/x-python",
   "name": "python",
   "nbconvert_exporter": "python",
   "pygments_lexer": "ipython3",
   "version": "3.6.3"
  }
 },
 "nbformat": 4,
 "nbformat_minor": 2
}
